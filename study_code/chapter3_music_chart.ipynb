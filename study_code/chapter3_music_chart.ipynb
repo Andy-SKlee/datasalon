{
 "cells": [
  {
   "cell_type": "markdown",
   "metadata": {},
   "source": [
    "## 1. Melon 크롤링 결과 엑셀 파일로 저장하기"
   ]
  },
  {
   "cell_type": "code",
   "execution_count": 1,
   "metadata": {
    "ExecuteTime": {
     "end_time": "2021-01-10T08:22:15.942166Z",
     "start_time": "2021-01-10T08:22:15.706429Z"
    }
   },
   "outputs": [],
   "source": [
    "from selenium import webdriver\n",
    "from bs4 import BeautifulSoup"
   ]
  },
  {
   "cell_type": "code",
   "execution_count": 50,
   "metadata": {
    "ExecuteTime": {
     "end_time": "2021-01-08T05:49:55.869956Z",
     "start_time": "2021-01-08T05:49:52.830177Z"
    }
   },
   "outputs": [],
   "source": [
    "driver = webdriver.Safari()\n",
    "url_m = 'https://www.melon.com/chart/index.htm'\n",
    "driver.get(url_m)\n",
    "\n",
    "html = driver.page_source\n",
    "soup = BeautifulSoup(html, 'html.parser')"
   ]
  },
  {
   "cell_type": "code",
   "execution_count": 67,
   "metadata": {
    "ExecuteTime": {
     "end_time": "2021-01-08T05:57:24.492552Z",
     "start_time": "2021-01-08T05:57:24.284295Z"
    }
   },
   "outputs": [],
   "source": [
    "song_data = []\n",
    "rank = 1\n",
    "songs = soup.select('table > tbody > tr')\n",
    "for song in songs:\n",
    "    title = song.select('div.ellipsis.rank01 > span > a')[0].text\n",
    "    singer = \"\"\n",
    "    len_singer = len(song.select('div.ellipsis.rank02 > a'))\n",
    "    for i in range(len_singer):\n",
    "        singer += song.select('div.ellipsis.rank02 > span > a')[i].text + \", \"\n",
    "    song_data.append(['Melon', rank, title, singer])\n",
    "    rank += 1"
   ]
  },
  {
   "cell_type": "code",
   "execution_count": 68,
   "metadata": {
    "ExecuteTime": {
     "end_time": "2021-01-08T05:57:25.425367Z",
     "start_time": "2021-01-08T05:57:25.408303Z"
    }
   },
   "outputs": [
    {
     "data": {
      "text/html": [
       "<div>\n",
       "<style scoped>\n",
       "    .dataframe tbody tr th:only-of-type {\n",
       "        vertical-align: middle;\n",
       "    }\n",
       "\n",
       "    .dataframe tbody tr th {\n",
       "        vertical-align: top;\n",
       "    }\n",
       "\n",
       "    .dataframe thead th {\n",
       "        text-align: right;\n",
       "    }\n",
       "</style>\n",
       "<table border=\"1\" class=\"dataframe\">\n",
       "  <thead>\n",
       "    <tr style=\"text-align: right;\">\n",
       "      <th></th>\n",
       "      <th>사이트</th>\n",
       "      <th>순위</th>\n",
       "      <th>타이틀</th>\n",
       "      <th>가수</th>\n",
       "    </tr>\n",
       "  </thead>\n",
       "  <tbody>\n",
       "    <tr>\n",
       "      <td>0</td>\n",
       "      <td>Melon</td>\n",
       "      <td>1</td>\n",
       "      <td>VVS (Feat. JUSTHIS) (Prod. GroovyRoom)</td>\n",
       "      <td>미란이 (Mirani), 먼치맨, Khundi Panda, 머쉬베놈 (MUSHVEN...</td>\n",
       "    </tr>\n",
       "    <tr>\n",
       "      <td>1</td>\n",
       "      <td>Melon</td>\n",
       "      <td>2</td>\n",
       "      <td>밤하늘의 별을(2020)</td>\n",
       "      <td>경서,</td>\n",
       "    </tr>\n",
       "    <tr>\n",
       "      <td>2</td>\n",
       "      <td>Melon</td>\n",
       "      <td>3</td>\n",
       "      <td>Dynamite</td>\n",
       "      <td>방탄소년단,</td>\n",
       "    </tr>\n",
       "    <tr>\n",
       "      <td>3</td>\n",
       "      <td>Melon</td>\n",
       "      <td>4</td>\n",
       "      <td>잠이 오질 않네요</td>\n",
       "      <td>장범준,</td>\n",
       "    </tr>\n",
       "    <tr>\n",
       "      <td>4</td>\n",
       "      <td>Melon</td>\n",
       "      <td>5</td>\n",
       "      <td>내일이 오면 (Feat. 기리보이, BIG Naughty (서동현))</td>\n",
       "      <td>릴보이 (lIlBOI),</td>\n",
       "    </tr>\n",
       "  </tbody>\n",
       "</table>\n",
       "</div>"
      ],
      "text/plain": [
       "     사이트  ...                                                 가수\n",
       "0  Melon  ...  미란이 (Mirani), 먼치맨, Khundi Panda, 머쉬베놈 (MUSHVEN...\n",
       "1  Melon  ...                                               경서, \n",
       "2  Melon  ...                                            방탄소년단, \n",
       "3  Melon  ...                                              장범준, \n",
       "4  Melon  ...                                     릴보이 (lIlBOI), \n",
       "\n",
       "[5 rows x 4 columns]"
      ]
     },
     "execution_count": 68,
     "metadata": {},
     "output_type": "execute_result"
    }
   ],
   "source": [
    "import pandas as pd\n",
    "columns = ['사이트', '순위', '타이틀', '가수']\n",
    "pd_data = pd.DataFrame(song_data, columns=columns)\n",
    "pd_data.head()"
   ]
  },
  {
   "cell_type": "code",
   "execution_count": 4,
   "metadata": {
    "ExecuteTime": {
     "end_time": "2021-01-08T05:23:37.980082Z",
     "start_time": "2021-01-08T05:23:37.899643Z"
    }
   },
   "outputs": [],
   "source": [
    "pd_data.to_excel('melon.xlsx', index=False)"
   ]
  },
  {
   "cell_type": "markdown",
   "metadata": {},
   "source": [
    "## 2. bugs 크롤링 결과 엑셀 파일로 저장하기"
   ]
  },
  {
   "cell_type": "code",
   "execution_count": 78,
   "metadata": {
    "ExecuteTime": {
     "end_time": "2021-01-08T06:00:53.838340Z",
     "start_time": "2021-01-08T06:00:49.538358Z"
    }
   },
   "outputs": [],
   "source": [
    "driver = webdriver.Safari()\n",
    "url_b = 'https://music.bugs.co.kr/chart?wl_ref=M_left_02_01'\n",
    "driver.get(url_b)\n",
    "\n",
    "html = driver.page_source\n",
    "soup = BeautifulSoup(html, 'html.parser')"
   ]
  },
  {
   "cell_type": "code",
   "execution_count": 79,
   "metadata": {
    "ExecuteTime": {
     "end_time": "2021-01-08T06:00:54.225493Z",
     "start_time": "2021-01-08T06:00:54.195263Z"
    }
   },
   "outputs": [
    {
     "name": "stdout",
     "output_type": "stream",
     "text": [
      "104\n"
     ]
    }
   ],
   "source": [
    "songs = soup.select('tr')\n",
    "print(len(songs))"
   ]
  },
  {
   "cell_type": "code",
   "execution_count": 80,
   "metadata": {
    "ExecuteTime": {
     "end_time": "2021-01-08T06:00:55.428060Z",
     "start_time": "2021-01-08T06:00:55.388673Z"
    }
   },
   "outputs": [
    {
     "name": "stdout",
     "output_type": "stream",
     "text": [
      "103\n"
     ]
    }
   ],
   "source": [
    "songs = soup.select('tbody > tr')\n",
    "print(len(songs))"
   ]
  },
  {
   "cell_type": "code",
   "execution_count": 81,
   "metadata": {
    "ExecuteTime": {
     "end_time": "2021-01-08T06:00:56.401477Z",
     "start_time": "2021-01-08T06:00:56.355782Z"
    }
   },
   "outputs": [
    {
     "name": "stdout",
     "output_type": "stream",
     "text": [
      "103\n"
     ]
    }
   ],
   "source": [
    "songs = soup.select('table > tbody > tr')\n",
    "print(len(songs))"
   ]
  },
  {
   "cell_type": "code",
   "execution_count": 82,
   "metadata": {
    "ExecuteTime": {
     "end_time": "2021-01-08T06:00:56.901812Z",
     "start_time": "2021-01-08T06:00:56.856039Z"
    }
   },
   "outputs": [
    {
     "name": "stdout",
     "output_type": "stream",
     "text": [
      "100\n"
     ]
    }
   ],
   "source": [
    "songs = soup.select('table.byChart > tbody > tr')\n",
    "print(len(songs))"
   ]
  },
  {
   "cell_type": "code",
   "execution_count": 83,
   "metadata": {
    "ExecuteTime": {
     "end_time": "2021-01-08T06:00:57.876941Z",
     "start_time": "2021-01-08T06:00:57.871437Z"
    }
   },
   "outputs": [
    {
     "name": "stdout",
     "output_type": "stream",
     "text": [
      "<tr albumid=\"4022885\" artistid=\"1501\" multiartist=\"N\" mvid=\"583598\" rowtype=\"track\" trackid=\"6046260\">\n",
      "<input name=\"_isStream\" type=\"hidden\" value=\"6046260\"/>\n",
      "<input name=\"_isDown\" type=\"hidden\" value=\"6046260\"/>\n",
      "<td class=\"check\"><input buyminquality=\"T\" disc_id=\"1\" name=\"check\" title=\"Your Lights\" type=\"checkbox\" value=\"6046260\"/></td>\n",
      "<td>\n",
      "<div class=\"ranking\">\n",
      "<strong>1</strong>\n",
      "<p class=\"change none\"><em>0</em><span>변동없음</span></p>\n",
      "</div>\n",
      "</td>\n",
      "<td>\n",
      "<a class=\"thumbnail\" href=\"https://music.bugs.co.kr/album/4022885?wl_ref=list_tr_07_chart\" onclick=\"\n",
      "\">\n",
      "<span class=\"mask\"></span>\n",
      "<img alt=\"Your Lights (바이크 원정대 OST Part.1) 대표이미지\" onerror=\"bugs.utils.imgError(this);\" src=\"https://image.bugsm.co.kr/album/images/50/40228/4022885.jpg?version=20210108002452.0\"/>\n",
      "</a>\n",
      "</td>\n",
      "<td>\n",
      "<a class=\"trackInfo\" href=\"https://music.bugs.co.kr/track/6046260?wl_ref=list_tr_08_chart\" onclick=\"\n",
      "\">곡정보</a>\n",
      "</td>\n",
      "<th scope=\"row\">\n",
      "<p adult_yn=\"N\" class=\"title\">\n",
      "<a adultcheckval=\"1\" aria-label=\"새창\" href=\"javascript:;\" onclick=\"bugs.wiselog.area('list_tr_09_chart');bugs.music.listen('6046260',true);\n",
      "\" title=\"Your Lights\">Your Lights</a>\n",
      "</p>\n",
      "</th>\n",
      "<td class=\"left\">\n",
      "<p class=\"artist\">\n",
      "<a href=\"https://music.bugs.co.kr/artist/1501?wl_ref=list_tr_10_chart\" onclick=\"\n",
      "\" title=\"이수 (엠씨더맥스)\">이수 (엠씨더맥스)</a>\n",
      "</p>\n",
      "</td>\n",
      "<td class=\"left\">\n",
      "<a class=\"album\" href=\"https://music.bugs.co.kr/album/4022885?wl_ref=list_tr_11_chart\" onclick=\"\n",
      "\" title=\"Your Lights (바이크 원정대 OST Part.1)\">Your Lights (바이크 원정대 OST Part.1)</a>\n",
      "</td>\n",
      "<td>\n",
      "<a adultcheckval=\"1\" aria-label=\"새창\" class=\"btn play\" href=\"javascript:;\" onclick=\"bugs.wiselog.area('list_tr_12_chart');bugs.music.listen('6046260',true);\n",
      "\">듣기</a>\n",
      "</td>\n",
      "<td>\n",
      "<a adultcheckval=\"1\" aria-label=\"새창\" class=\"btn addPlaylist\" href=\"javascript:;\" onclick=\"bugs.wiselog.area('list_tr_13_chart');bugs.music.listen('6046260');\n",
      "\">재생목록에 추가</a>\n",
      "</td>\n",
      "<td>\n",
      "<a class=\"btn addAlbum\" href=\"javascript:;\" onclick=\"bugs.wiselog.area('list_tr_14_chart');bugs.music.addTrackToMyAlbum(this,'6046260');\n",
      "\" track_title=\"Your Lights\">내 앨범에 담기</a>\n",
      "</td>\n",
      "<td>\n",
      "<a adultcheckval=\"1\" aria-label=\"새창\" class=\"btn download flac\" href=\"javascript:;\" onclick=\"bugs.wiselog.area('list_tr_15_chart');bugs.layermenu.down(this,'6046260','true','true','44.1','true','96', null );\n",
      "\"><em class=\"flac\">flac </em>다운로드</a>\n",
      "</td>\n",
      "<td>\n",
      "<a aria-label=\"새창\" class=\"btn viewMV\" href=\"javascript:;\" onclick=\"bugs.wiselog.area('list_tr_16_chart');\n",
      "bugs.layermenu.mv(this,6046260, 583598, 'Y', 'Y', 'Y', 'Y', 6046260, 'N','ALL', 'Y');\n",
      "\">영상 재생</a>\n",
      "</td>\n",
      "<td>\n",
      "<a artist_disp_nm=\"이수 (엠씨더맥스)\" artist_id=\"1501\" class=\"btnActions\" href=\"javascript:;\" layer_type=\"CHART\" layerpositiontarget=\"td\" onclick=\"bugs.wiselog.area('list_tr_17_chart');\n",
      "bugs.layermenu.trackMoreAction(this,'6046260','0','4022885','bugs.music.listenRadioFromSeed(\\'6046260\\',\\'track\\');','N', 'Y', '_chart');\n",
      "\" track_title=\"Your Lights\">기타 기능</a>\n",
      "</td>\n",
      "</tr>\n"
     ]
    }
   ],
   "source": [
    "print(songs[0])"
   ]
  },
  {
   "cell_type": "code",
   "execution_count": 84,
   "metadata": {
    "ExecuteTime": {
     "end_time": "2021-01-08T06:01:01.477213Z",
     "start_time": "2021-01-08T06:01:01.470816Z"
    }
   },
   "outputs": [
    {
     "data": {
      "text/plain": [
       "1"
      ]
     },
     "execution_count": 84,
     "metadata": {},
     "output_type": "execute_result"
    }
   ],
   "source": [
    "song = songs[0]\n",
    "title = song.select('p.title > a')\n",
    "len(title)"
   ]
  },
  {
   "cell_type": "code",
   "execution_count": 85,
   "metadata": {
    "ExecuteTime": {
     "end_time": "2021-01-08T06:01:02.392702Z",
     "start_time": "2021-01-08T06:01:02.386368Z"
    }
   },
   "outputs": [
    {
     "data": {
      "text/plain": [
       "'Your Lights'"
      ]
     },
     "execution_count": 85,
     "metadata": {},
     "output_type": "execute_result"
    }
   ],
   "source": [
    "title = song.select('p.title > a')[0].text\n",
    "title"
   ]
  },
  {
   "cell_type": "code",
   "execution_count": 89,
   "metadata": {
    "ExecuteTime": {
     "end_time": "2021-01-08T06:02:18.219932Z",
     "start_time": "2021-01-08T06:02:18.213615Z"
    }
   },
   "outputs": [
    {
     "data": {
      "text/plain": [
       "'이수 (엠씨더맥스)'"
      ]
     },
     "execution_count": 89,
     "metadata": {},
     "output_type": "execute_result"
    }
   ],
   "source": [
    "singer = song.select('p.artist > a')[0].text.strip()\n",
    "singer"
   ]
  },
  {
   "cell_type": "markdown",
   "metadata": {},
   "source": [
    "### 반복문으로 순위 정보 가져오기"
   ]
  },
  {
   "cell_type": "code",
   "execution_count": 91,
   "metadata": {
    "ExecuteTime": {
     "end_time": "2021-01-08T06:04:24.040178Z",
     "start_time": "2021-01-08T06:04:23.898743Z"
    }
   },
   "outputs": [
    {
     "name": "stdout",
     "output_type": "stream",
     "text": [
      "Your Lights | 이수 (엠씨더맥스)\n",
      "나로 바꾸자 (duet with JYP) | 비\n",
      "우린 어쩌다 헤어진 걸까 | 허각\n",
      "첫사랑 (feat.SOLE(쏠)) | 정준일\n",
      "겨울잠 | 장덕철\n",
      "Dynamite | 방탄소년단\n",
      "For You (Feat. Crush) | 이하이\n",
      "What Do I Call You | 태연 (TAEYEON)\n",
      "VVS (Feat. JUSTHIS) (Prod. GroovyRoom) | 미란이\n",
      "밤하늘의 별을(2020) | 경서\n",
      "Lovesick Girls | BLACKPINK\n",
      "Life Goes On | 방탄소년단\n",
      "CREDIT (Feat. 염따, 기리보이, Zion.T) | 릴보이(lIlBOI)\n",
      "입김 | 10CM\n",
      "휘파람 | 싱어게인 63호 가수\n",
      "서로를 위한 것 | 나얼(Na-Ul)\n",
      "Black Mamba | aespa\n",
      "잠이 오질 않네요 | 장범준\n",
      "우리의 밤은 당신의 낮보다 아름답다 | 너도 나도 너드(싱어게인 17호 가수, 싱어게인 26호 가수)\n",
      "Panorama | IZ*ONE(아이즈원)\n",
      "가을밤에 든 생각 | 잔나비\n",
      "Lovegame | 백예린 (Yerin Baek)\n",
      "취기를 빌려 (취향저격 그녀 X 산들) | 산들\n",
      "잘할게 | 이승기\n",
      "내일이 오면 (Feat. 기리보이, BIG Naughty (서동현)) | 릴보이(lIlBOI)\n",
      "에잇(Prod.&Feat. SUGA of BTS) | 아이유(IU)\n",
      "Blueming | 아이유(IU)\n",
      "I CAN’T STOP ME | TWICE (트와이스)\n",
      "34+35 | Ariana Grande(아리아나 그란데)\n",
      "나랑 같이 걸을래 (바른연애 길잡이 X 적재) | 적재\n",
      "ON AIR (Feat. 로꼬, 박재범 & GRAY) | 릴보이(lIlBOI)\n",
      "Achoo (Feat. pH-1, HAON) (Prod. GroovyRoom) | 미란이\n",
      "악역 (Feat. 이하이 & 사이먼 도미닉) (Prod. 코드 쿤스트) | 스윙스(Swings)\n",
      "Savage Love (Laxed - Siren Beat) (BTS Remix) | Jawsh 685\n",
      "여백의 미 (Feat. Jessi, JUSTHIS) (Prod. GroovyRoom) | 머쉬베놈(MUSHVENOM)\n",
      "오래된 노래 | 스탠딩 에그(Standing Egg)\n",
      "Hate you | 백예린 (Yerin Baek)\n",
      "딩가딩가 (Dingga) | 마마무(Mamamoo)\n",
      "너도 아는 | 폴킴(Paul Kim)\n",
      "흔들리는 꽃들 속에서 네 샴푸향이 느껴진거야 | 장범준\n",
      "Playlist | 태연 (TAEYEON)\n",
      "뿌리 (Feat. JUSTHIS) (Prod. GroovyRoom) | KHUNDI PANDA\n",
      "힘든 건 사랑이 아니다 | 임창정\n",
      "MAGO | 여자친구(GFRIEND)\n",
      "How You Like That | BLACKPINK\n",
      "사라진 모든 것들에게(with ELLE KOREA) | 코드 쿤스트\n",
      "불면증 (Vocal by 윤하) | 에피톤 프로젝트(Epitone Project)\n",
      "Dolphin | 오마이걸(OH MY GIRL)\n",
      "When We Disco (Duet with 선미) | 박진영\n",
      "모든 날, 모든 순간 (Every day, Every Moment) | 폴킴(Paul Kim)\n",
      "사랑이었나봐 | 기리보이\n",
      "Square (2017) | 백예린 (Yerin Baek)\n",
      "사랑은 (Feat.원슈타인) | 마미손\n",
      "마음을 드려요 | 아이유(IU)\n",
      "내 마음이 움찔했던 순간 (취향저격 그녀 X 규현) | 규현 (KYUHYUN)\n",
      "이제 나만 믿어요 | 임영웅\n",
      "요즘 | 양다일\n",
      "어떻게 이별까지 사랑하겠어, 널 사랑하는 거지 | AKMU (악동뮤지션)\n",
      "살짝 설렜어 (Nonstop) | 오마이걸(OH MY GIRL)\n",
      "Snowman | Sia(시아)\n",
      "주저하는 연인들을 위해 | 잔나비\n",
      "Here I am | 조현아 (어반자카파)\n",
      "METEOR | 창모(CHANGMO)\n",
      "밤편지 | 아이유(IU)\n",
      "혼술하고 싶은 밤 | 벤\n",
      "Love poem | 아이유(IU)\n",
      "어김없이 이 거리에 | 정승환\n",
      "모든 밤 너에게 (연애혁명 X 민현 (뉴이스트)) | 민현 (뉴이스트)\n",
      "Bad Boy | 청하\n",
      "손님온다 | 중고등부 (성민지화자좋다)\n",
      "어떻게 지내 (Prod. By VAN.C) | 오반 (OVAN)\n",
      "고독하구만 (Feat. 수퍼비) (Prod. GroovyRoom) | 머쉬베놈(MUSHVENOM)\n",
      "아로하 | 조정석\n",
      "밝게 빛나는 별이 되어 비춰줄게 | 송이한\n",
      "DON'T TOUCH ME | 환불원정대\n",
      "한잔이면 지워질까 | 황인욱\n",
      "늦은 밤 너의 집 앞 골목길에서 | 노을\n",
      "시작 | 가호(Gaho)\n",
      "작은 것들을 위한 시 (Boy With Luv) (Feat. Halsey) | 방탄소년단\n",
      "미리 메리 크리스마스 (feat. 천둥 Of MBLAQ) | 아이유(IU)\n",
      "parachute | John K\n",
      "놀이공원 (Amusement Park) | 백현(BAEKHYUN)\n",
      "밤새 (취향저격 그녀 X 카더가든) | 카더가든\n",
      "적외선 카메라 | 원슈타인\n",
      "미운 사내 | 아이돌부 (느낌좋지윤)\n",
      "제발 | 싱어게인 29호 가수\n",
      "Memories | Maroon 5(마룬 파이브)\n",
      "홀로 | 이하이\n",
      "동거 (in the bed) | 선우정아(Sunwoojunga)\n",
      "CRY FOR ME | TWICE (트와이스)\n",
      "이루리 | 우주소녀\n",
      "가다 (Feat. 사이먼 도미닉, The Quiett) (Prod. SLO) | 머쉬베놈(MUSHVENOM)\n",
      "Freak (Prod. Slom) | 릴보이(lIlBOI)\n",
      "Santa Tell Me | Ariana Grande(아리아나 그란데)\n",
      "우선순위 | 더보이즈(THE BOYZ)\n",
      "Sorry | 2F (신용재, 김원주)\n",
      "SO BAD | STAYC(스테이씨)\n",
      "90's Love | NCT U\n",
      "마리아 (Maria) | 화사(Hwa Sa)\n",
      "HERO | 임영웅\n"
     ]
    }
   ],
   "source": [
    "songs = soup.select('table.byChart > tbody > tr')\n",
    "for song in songs:\n",
    "    title = song.select('p.title > a')[0].text\n",
    "    singer = song.select('p.artist > a')[0].text\n",
    "    print(title, singer, sep=' | ')"
   ]
  },
  {
   "cell_type": "code",
   "execution_count": 93,
   "metadata": {
    "ExecuteTime": {
     "end_time": "2021-01-08T06:06:57.525986Z",
     "start_time": "2021-01-08T06:06:57.377087Z"
    }
   },
   "outputs": [],
   "source": [
    "song_data = []\n",
    "rank = 1\n",
    "songs = soup.select('table.byChart > tbody > tr')\n",
    "for song in songs:\n",
    "    title = song.select('p.title > a')[0].text\n",
    "    singer = song.select('p.artist > a')[0].text\n",
    "    song_data.append(['Bugs', rank, title, singer])\n",
    "    rank += 1\n",
    "\n",
    "pd_data = pd.DataFrame(song_data, columns=columns)\n",
    "pd_data.to_excel('bugs.xlsx', index=False)"
   ]
  },
  {
   "cell_type": "markdown",
   "metadata": {},
   "source": [
    "## 3. 크롤링 결과 파일 통합하기"
   ]
  },
  {
   "cell_type": "code",
   "execution_count": 4,
   "metadata": {
    "ExecuteTime": {
     "end_time": "2021-01-10T08:24:01.078848Z",
     "start_time": "2021-01-10T08:24:00.282781Z"
    }
   },
   "outputs": [],
   "source": [
    "import pandas as pd"
   ]
  },
  {
   "cell_type": "code",
   "execution_count": 5,
   "metadata": {
    "ExecuteTime": {
     "end_time": "2021-01-10T08:25:15.676391Z",
     "start_time": "2021-01-10T08:25:15.551775Z"
    }
   },
   "outputs": [
    {
     "name": "stdout",
     "output_type": "stream",
     "text": [
      "<class 'pandas.core.frame.DataFrame'>\n",
      "Int64Index: 200 entries, 0 to 99\n",
      "Data columns (total 4 columns):\n",
      "사이트    200 non-null object\n",
      "순위     200 non-null int64\n",
      "타이틀    200 non-null object\n",
      "가수     200 non-null object\n",
      "dtypes: int64(1), object(3)\n",
      "memory usage: 7.8+ KB\n"
     ]
    }
   ],
   "source": [
    "excel_names = ['bugs.xlsx', 'melon.xlsx']\n",
    "append_data = pd.DataFrame()\n",
    "for name in excel_names:\n",
    "    pd_data = pd.read_excel(name)\n",
    "    append_data = append_data.append(pd_data)\n",
    "append_data.info()"
   ]
  },
  {
   "cell_type": "code",
   "execution_count": 6,
   "metadata": {
    "ExecuteTime": {
     "end_time": "2021-01-10T08:25:50.945872Z",
     "start_time": "2021-01-10T08:25:50.881947Z"
    }
   },
   "outputs": [],
   "source": [
    "append_data.to_excel('music_total.xlsx', index=False)"
   ]
  }
 ],
 "metadata": {
  "kernelspec": {
   "display_name": "Python 3",
   "language": "python",
   "name": "python3"
  },
  "language_info": {
   "codemirror_mode": {
    "name": "ipython",
    "version": 3
   },
   "file_extension": ".py",
   "mimetype": "text/x-python",
   "name": "python",
   "nbconvert_exporter": "python",
   "pygments_lexer": "ipython3",
   "version": "3.8.3"
  },
  "toc": {
   "base_numbering": 1,
   "nav_menu": {},
   "number_sections": true,
   "sideBar": true,
   "skip_h1_title": false,
   "title_cell": "Table of Contents",
   "title_sidebar": "Contents",
   "toc_cell": false,
   "toc_position": {},
   "toc_section_display": true,
   "toc_window_display": false
  },
  "varInspector": {
   "cols": {
    "lenName": 16,
    "lenType": 16,
    "lenVar": 40
   },
   "kernels_config": {
    "python": {
     "delete_cmd_postfix": "",
     "delete_cmd_prefix": "del ",
     "library": "var_list.py",
     "varRefreshCmd": "print(var_dic_list())"
    },
    "r": {
     "delete_cmd_postfix": ") ",
     "delete_cmd_prefix": "rm(",
     "library": "var_list.r",
     "varRefreshCmd": "cat(var_dic_list()) "
    }
   },
   "types_to_exclude": [
    "module",
    "function",
    "builtin_function_or_method",
    "instance",
    "_Feature"
   ],
   "window_display": false
  }
 },
 "nbformat": 4,
 "nbformat_minor": 4
}
