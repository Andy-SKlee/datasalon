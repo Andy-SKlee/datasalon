{
 "cells": [
  {
   "cell_type": "markdown",
   "metadata": {},
   "source": [
    "## 태그 속성 확인하기"
   ]
  },
  {
   "cell_type": "code",
   "execution_count": 3,
   "metadata": {
    "ExecuteTime": {
     "end_time": "2021-01-07T05:38:41.834507Z",
     "start_time": "2021-01-07T05:38:39.595014Z"
    }
   },
   "outputs": [],
   "source": [
    "from selenium import webdriver\n",
    "driver = webdriver.Safari()\n",
    "url = 'https://www.naver.com'\n",
    "driver.get(url)"
   ]
  },
  {
   "cell_type": "code",
   "execution_count": 4,
   "metadata": {
    "ExecuteTime": {
     "end_time": "2021-01-07T05:38:41.911306Z",
     "start_time": "2021-01-07T05:38:41.837253Z"
    }
   },
   "outputs": [],
   "source": [
    "html = driver.page_source"
   ]
  },
  {
   "cell_type": "code",
   "execution_count": 5,
   "metadata": {
    "ExecuteTime": {
     "end_time": "2021-01-07T05:38:41.919746Z",
     "start_time": "2021-01-07T05:38:41.915102Z"
    }
   },
   "outputs": [],
   "source": [
    "# 예제 2-40 실습용 HTML\n",
    "html = '''\n",
    "<html>\n",
    "    <head>\n",
    "    </head>\n",
    "    <body>\n",
    "        <h1> 우리동네시장</h1>\n",
    "            <div class = 'sale'>\n",
    "                <p id='fruits1' class='fruits'>\n",
    "                    <span class = 'name'> 바나나 </span>\n",
    "                    <span class = 'price'> 3000원 </span>\n",
    "                    <span class = 'inventory'> 500개 </span>\n",
    "                    <span class = 'store'> 가나다상회 </span>\n",
    "                    <a href = 'http://bit.ly/forPlaywithData' > 홈페이지 </a>\n",
    "                </p>\n",
    "            </div>\n",
    "            <div class = 'prepare'>\n",
    "                <p id='fruits2' class='fruits'>\n",
    "                    <span class ='name'> 파인애플 </span>\n",
    "                </p>\n",
    "            </div>\n",
    "    </body>\n",
    "</html>\n",
    "'''"
   ]
  },
  {
   "cell_type": "code",
   "execution_count": 6,
   "metadata": {
    "ExecuteTime": {
     "end_time": "2021-01-07T05:38:42.092444Z",
     "start_time": "2021-01-07T05:38:41.923201Z"
    }
   },
   "outputs": [],
   "source": [
    "from bs4 import BeautifulSoup\n",
    "\n",
    "soup = BeautifulSoup(html, 'html.parser')"
   ]
  },
  {
   "cell_type": "markdown",
   "metadata": {},
   "source": [
    "태그명이 span 인 태그와 p 인 태그를 변수에 저장"
   ]
  },
  {
   "cell_type": "code",
   "execution_count": 7,
   "metadata": {
    "ExecuteTime": {
     "end_time": "2021-01-07T05:38:42.096791Z",
     "start_time": "2021-01-07T05:38:42.094125Z"
    }
   },
   "outputs": [],
   "source": [
    "tags_span = soup.select('span')\n",
    "tags_p = soup.select('p')"
   ]
  },
  {
   "cell_type": "markdown",
   "metadata": {},
   "source": [
    "아이디 값이 fruits1인 태그를 모두 ids_fruits1에 저장  \n",
    "class 명이 price인 태그를 모두 class_price에 저장  \n",
    "태그명이 span이면서 class명이 price인 태그를 모두 저장"
   ]
  },
  {
   "cell_type": "code",
   "execution_count": 8,
   "metadata": {
    "ExecuteTime": {
     "end_time": "2021-01-07T05:42:35.487512Z",
     "start_time": "2021-01-07T05:42:35.482308Z"
    }
   },
   "outputs": [],
   "source": [
    "ids_fruits1 = soup.select('#fruits1')\n",
    "class_price = soup.select('.price')\n",
    "tags_span_class_price = soup.select('span.price')"
   ]
  },
  {
   "cell_type": "code",
   "execution_count": 16,
   "metadata": {
    "ExecuteTime": {
     "end_time": "2021-01-07T05:44:42.857622Z",
     "start_time": "2021-01-07T05:44:42.851839Z"
    }
   },
   "outputs": [
    {
     "name": "stdout",
     "output_type": "stream",
     "text": [
      "[<p class=\"fruits\" id=\"fruits1\">\n",
      "<span class=\"name\"> 바나나 </span>\n",
      "<span class=\"price\"> 3000원 </span>\n",
      "<span class=\"inventory\"> 500개 </span>\n",
      "<span class=\"store\"> 가나다상회 </span>\n",
      "<a href=\"http://bit.ly/forPlaywithData\"> 홈페이지 </a>\n",
      "</p>]\n",
      "----------------------------------------\n",
      "[<span class=\"price\"> 3000원 </span>]\n",
      "----------------------------------------\n",
      "[<span class=\"price\"> 3000원 </span>]\n",
      "----------------------------------------\n",
      "<class 'bs4.element.ResultSet'>\n"
     ]
    }
   ],
   "source": [
    "print(ids_fruits1)\n",
    "print('-'*40)\n",
    "print(class_price)\n",
    "print('-'*40)\n",
    "print(tags_span_class_price)\n",
    "print('-'*40)\n",
    "print(type(ids_fruits1))"
   ]
  },
  {
   "cell_type": "markdown",
   "metadata": {},
   "source": [
    "## 상위 구조 활용하기\n",
    "태그의 속성만으로 정보를 찾기 힘들 때, 어떠한 부모 태그 아래에 있는지 등을 추가해서 검색할 수 있다. 이때 '>' 기호를 사용한다."
   ]
  },
  {
   "cell_type": "code",
   "execution_count": 17,
   "metadata": {
    "ExecuteTime": {
     "end_time": "2021-01-07T05:46:51.082893Z",
     "start_time": "2021-01-07T05:46:51.078120Z"
    }
   },
   "outputs": [
    {
     "name": "stdout",
     "output_type": "stream",
     "text": [
      "[<span class=\"name\"> 바나나 </span>, <span class=\"name\"> 파인애플 </span>]\n"
     ]
    }
   ],
   "source": [
    "tags_name = soup.select('span.name')\n",
    "print(tags_name)"
   ]
  },
  {
   "cell_type": "markdown",
   "metadata": {},
   "source": [
    "이때 바나나만 뽑아내고 싶으면 부모 태그 정보를 추가한다."
   ]
  },
  {
   "cell_type": "code",
   "execution_count": 18,
   "metadata": {
    "ExecuteTime": {
     "end_time": "2021-01-07T05:51:49.552359Z",
     "start_time": "2021-01-07T05:51:49.547200Z"
    }
   },
   "outputs": [
    {
     "name": "stdout",
     "output_type": "stream",
     "text": [
      "[<span class=\"name\"> 바나나 </span>]\n"
     ]
    }
   ],
   "source": [
    "tags_banana1 = soup.select('#fruits1 > span.name')\n",
    "print(tags_banana1)"
   ]
  },
  {
   "cell_type": "code",
   "execution_count": 19,
   "metadata": {
    "ExecuteTime": {
     "end_time": "2021-01-07T05:54:09.479515Z",
     "start_time": "2021-01-07T05:54:09.474628Z"
    }
   },
   "outputs": [
    {
     "name": "stdout",
     "output_type": "stream",
     "text": [
      "[<span class=\"name\"> 바나나 </span>]\n",
      "[<span class=\"name\"> 바나나 </span>]\n"
     ]
    }
   ],
   "source": [
    "tags_banana2 = soup.select('div.sale > #fruits1 > span.name')\n",
    "tags_banana3 = soup.select('div.sale span.name')\n",
    "print(tags_banana2)\n",
    "print(tags_banana3)"
   ]
  },
  {
   "cell_type": "markdown",
   "metadata": {},
   "source": [
    "위와 같이 '>' 기호와 띄어쓰기를 이용해서 원하는 태그를 찾을 수 있다.\n",
    "## 태그 그룹에서 하나의 태그 선택하기"
   ]
  },
  {
   "cell_type": "code",
   "execution_count": 24,
   "metadata": {
    "ExecuteTime": {
     "end_time": "2021-01-07T05:57:15.168539Z",
     "start_time": "2021-01-07T05:57:15.163576Z"
    }
   },
   "outputs": [
    {
     "name": "stdout",
     "output_type": "stream",
     "text": [
      "[<span class=\"name\"> 바나나 </span>, <span class=\"name\"> 파인애플 </span>]\n",
      "<span class=\"name\"> 바나나 </span>\n"
     ]
    }
   ],
   "source": [
    "tags = soup.select('span.name')\n",
    "tag_1 = tags[0]\n",
    "print(tags)\n",
    "print(tag_1)"
   ]
  },
  {
   "cell_type": "code",
   "execution_count": 25,
   "metadata": {
    "ExecuteTime": {
     "end_time": "2021-01-07T05:57:53.534051Z",
     "start_time": "2021-01-07T05:57:53.528940Z"
    }
   },
   "outputs": [
    {
     "name": "stdout",
     "output_type": "stream",
     "text": [
      "<span class=\"name\"> 바나나 </span>\n",
      "<span class=\"name\"> 파인애플 </span>\n"
     ]
    }
   ],
   "source": [
    "tags = soup.select('span.name')\n",
    "for tag in tags:\n",
    "    print(tag)"
   ]
  },
  {
   "cell_type": "markdown",
   "metadata": {},
   "source": [
    "## 선택한 태그에서 정보 가져오기\n",
    "브라우저 화면에 표시되는 정보 수집할때: .text  \n",
    "URL 주소 수집할때: ['href']"
   ]
  },
  {
   "cell_type": "code",
   "execution_count": 26,
   "metadata": {
    "ExecuteTime": {
     "end_time": "2021-01-07T06:00:28.859177Z",
     "start_time": "2021-01-07T06:00:28.853459Z"
    }
   },
   "outputs": [
    {
     "name": "stdout",
     "output_type": "stream",
     "text": [
      " 홈페이지 \n",
      "http://bit.ly/forPlaywithData\n"
     ]
    }
   ],
   "source": [
    "tags = soup.select('a')\n",
    "tag = tags[0]\n",
    "contect = tag.text\n",
    "print(contect)\n",
    "link = tag['href']\n",
    "print(link)"
   ]
  },
  {
   "cell_type": "markdown",
   "metadata": {},
   "source": [
    "## 멜론 노래 순위 정보 크롤링\n",
    "[멜론 사이트](https://www.melon.com/chart/index.htm)"
   ]
  },
  {
   "cell_type": "code",
   "execution_count": 28,
   "metadata": {
    "ExecuteTime": {
     "end_time": "2021-01-07T06:03:10.872026Z",
     "start_time": "2021-01-07T06:03:07.794857Z"
    }
   },
   "outputs": [],
   "source": [
    "driver = webdriver.Safari()\n",
    "url = 'https://www.melon.com/chart/index.htm'\n",
    "driver.get(url)"
   ]
  },
  {
   "cell_type": "code",
   "execution_count": 29,
   "metadata": {
    "ExecuteTime": {
     "end_time": "2021-01-07T06:04:50.040340Z",
     "start_time": "2021-01-07T06:04:49.715163Z"
    }
   },
   "outputs": [],
   "source": [
    "html = driver.page_source\n",
    "soup = BeautifulSoup(html, 'html.parser')"
   ]
  },
  {
   "cell_type": "markdown",
   "metadata": {},
   "source": [
    "노래의 정보를 가져오는 방법은 BeautifulSoup을 이용하는 방법과 selenium을 이용하는 것 두 종류가 있다. "
   ]
  },
  {
   "cell_type": "code",
   "execution_count": 30,
   "metadata": {
    "ExecuteTime": {
     "end_time": "2021-01-07T06:09:14.016677Z",
     "start_time": "2021-01-07T06:09:13.965424Z"
    }
   },
   "outputs": [
    {
     "name": "stdout",
     "output_type": "stream",
     "text": [
      "100\n",
      "<tr data-song-no=\"33077590\">\n",
      "<td><div class=\"wrap t_right\"><input class=\"input_check\" name=\"input_check\" title=\"VVS (Feat. JUSTHIS) (Prod. GroovyRoom) 곡 선택\" type=\"checkbox\" value=\"33077590\"/></div></td>\n",
      "<td><div class=\"wrap\">\n",
      "<a class=\"image_typeAll\" href=\"javascript:melon.link.goAlbumDetail('10521601');\" title=\"쇼미더머니 9 Episode 1\">\n",
      "<img alt=\"쇼미더머니 9 Episode 1 - 페이지 이동\" height=\"60\" onerror=\"WEBPOCIMG.defaultAlbumImg(this);\" src=\"https://cdnimg.melon.co.kr/cm2/album/images/105/21/601/10521601_20201120125511_500.jpg/melon/resize/120/quality/80/optimize\" width=\"60\"/>\n",
      "<span class=\"bg_album_frame\"></span>\n",
      "</a>\n",
      "</div></td>\n",
      "<td><div class=\"wrap\">\n",
      "<a class=\"btn button_icons type03 song_info\" href=\"javascript:melon.link.goSongDetail('33077590');\" title=\"VVS (Feat. JUSTHIS) (Prod. GroovyRoom) 곡정보\"><span class=\"none\">곡정보</span></a>\n",
      "</div></td>\n",
      "<td><div class=\"wrap\">\n",
      "<div class=\"wrap_song_info\">\n",
      "<div class=\"ellipsis rank01\"><span>\n",
      "<a href=\"javascript:melon.play.playSong('19030101',33077590);\" title=\"VVS (Feat. JUSTHIS) (Prod. GroovyRoom) 재생\">VVS (Feat. JUSTHIS) (Prod. GroovyRoom)</a>\n",
      "</span></div>\n",
      "<br/>\n",
      "<div class=\"ellipsis rank02\">\n",
      "<a href=\"javascript:melon.link.goArtistDetail('2866523');\" title=\"미란이 (Mirani) - 페이지 이동\">미란이 (Mirani)</a>, <a href=\"javascript:melon.link.goArtistDetail('2747971');\" title=\"먼치맨 - 페이지 이동\">먼치맨</a>, <a href=\"javascript:melon.link.goArtistDetail('1703507');\" title=\"Khundi Panda - 페이지 이동\">Khundi Panda</a>, <a href=\"javascript:melon.link.goArtistDetail('2745413');\" title=\"머쉬베놈 (MUSHVENOM) - 페이지 이동\">머쉬베놈 (MUSHVENOM)</a><span class=\"checkEllipsis\" style=\"display: none;\"><a href=\"javascript:melon.link.goArtistDetail('2866523');\" title=\"미란이 (Mirani) - 페이지 이동\">미란이 (Mirani)</a>, <a href=\"javascript:melon.link.goArtistDetail('2747971');\" title=\"먼치맨 - 페이지 이동\">먼치맨</a>, <a href=\"javascript:melon.link.goArtistDetail('1703507');\" title=\"Khundi Panda - 페이지 이동\">Khundi Panda</a>, <a href=\"javascript:melon.link.goArtistDetail('2745413');\" title=\"머쉬베놈 (MUSHVENOM) - 페이지 이동\">머쉬베놈 (MUSHVENOM)</a></span>\n",
      "</div>\n",
      "<div class=\"wrap_atist\" style=\"\">\n",
      "<button class=\"button_icons etc more_down\" data-control=\"dropdown\" title=\"아티스트 더보기\" type=\"button\"><span class=\"none\">아티스트명 더보기</span></button>\n",
      "<div class=\"atist_view\" style=\"display:none;\">\n",
      "<ul>\n",
      "<li><a class=\"ellipsis\" href=\"javascript:melon.link.goArtistDetail('2866523');\" title=\"미란이 (Mirani) 페이지 이동\">미란이 (Mirani)</a></li>\n",
      "<li><a class=\"ellipsis\" href=\"javascript:melon.link.goArtistDetail('2747971');\" title=\"먼치맨 페이지 이동\">먼치맨</a></li>\n",
      "<li><a class=\"ellipsis\" href=\"javascript:melon.link.goArtistDetail('1703507');\" title=\"Khundi Panda 페이지 이동\">Khundi Panda</a></li>\n",
      "<li><a class=\"ellipsis\" href=\"javascript:melon.link.goArtistDetail('2745413');\" title=\"머쉬베놈 (MUSHVENOM) 페이지 이동\">머쉬베놈 (MUSHVENOM)</a></li>\n",
      "</ul>\n",
      "</div>\n",
      "</div>\n",
      "</div>\n",
      "</div></td>\n",
      "<td><div class=\"wrap\">\n",
      "<div class=\"wrap_song_info\">\n",
      "<div class=\"ellipsis rank03\">\n",
      "<a href=\"javascript:melon.link.goAlbumDetail('10521601');\" title=\"쇼미더머니 9 Episode 1 - 페이지 이동\">쇼미더머니 9 Episode 1</a>\n",
      "</div>\n",
      "</div>\n",
      "</div></td>\n",
      "<td><div class=\"wrap\">\n",
      "<button class=\"button_etc like\" data-song-menuid=\"19030101\" data-song-no=\"33077590\" title=\"VVS (Feat. JUSTHIS) (Prod. GroovyRoom) 좋아요\" type=\"button\"><span class=\"odd_span\">좋아요</span>\n",
      "<span class=\"cnt\">\n",
      "<span class=\"none\">총건수</span>\n",
      "151,647</span></button>\n",
      "</div></td>\n",
      "<td><div class=\"wrap t_center\">\n",
      "<button class=\"button_icons play\" onclick=\"melon.play.playSong('19030101',33077590);\" title=\"듣기\" type=\"button\"><span class=\"none\">듣기</span></button>\n",
      "</div></td>\n",
      "<td><div class=\"wrap t_center\">\n",
      "<button class=\"button_icons scrap\" onclick=\"melon.play.addPlayList('33077590');\" title=\"담기\" type=\"button\"><span class=\"none\">담기</span></button>\n",
      "</div></td>\n",
      "<td><div class=\"wrap t_center\">\n",
      "<button class=\"button_icons download\" onclick=\"melon.buy.goBuyProduct('frm', '33077590', '3C0001', '','0', '19030101');\" title=\"다운로드\" type=\"button\"><span class=\"none\">다운로드</span></button>\n",
      "</div></td>\n",
      "<td><div class=\"wrap t_center\">\n",
      "<button class=\"button_icons video disabled\" disabled=\"disabled\" onclick=\"melon.link.goMvDetail('19030101', '33077590','song');\" title=\"뮤직비디오\" type=\"button\"><span class=\"none\">뮤직비디오</span></button>\n",
      "</div></td>\n",
      "</tr>\n"
     ]
    }
   ],
   "source": [
    "songs = soup.select('table > tbody > tr')\n",
    "# driver.find_elements_by_css_selector('table > tbody > tr')\n",
    "print(len(songs))\n",
    "print(songs[0])"
   ]
  },
  {
   "cell_type": "markdown",
   "metadata": {},
   "source": [
    "`len()` 의 결과가 100 이므로 1위부터 100위의 곡 수와 일치한다. 이번엔 먼저 1위 곡의 노래 제목과 가수를 찾아서 반복문으로 100곡의 제목과 가수를 찾아보자. "
   ]
  },
  {
   "cell_type": "code",
   "execution_count": 31,
   "metadata": {
    "ExecuteTime": {
     "end_time": "2021-01-07T06:11:37.658484Z",
     "start_time": "2021-01-07T06:11:37.655850Z"
    }
   },
   "outputs": [],
   "source": [
    "song = songs[0]"
   ]
  },
  {
   "cell_type": "code",
   "execution_count": 32,
   "metadata": {
    "ExecuteTime": {
     "end_time": "2021-01-07T06:12:58.686263Z",
     "start_time": "2021-01-07T06:12:58.674888Z"
    }
   },
   "outputs": [
    {
     "data": {
      "text/plain": [
       "16"
      ]
     },
     "execution_count": 32,
     "metadata": {},
     "output_type": "execute_result"
    }
   ],
   "source": [
    "title = song.select('a')\n",
    "len(title)"
   ]
  },
  {
   "cell_type": "markdown",
   "metadata": {},
   "source": [
    "태그명이 a인 태그가 16개인데 이 중 곡 제목이 포함된 태그만 가져오려면 조건을 추가해야한다."
   ]
  },
  {
   "cell_type": "code",
   "execution_count": 33,
   "metadata": {
    "ExecuteTime": {
     "end_time": "2021-01-07T06:14:36.997801Z",
     "start_time": "2021-01-07T06:14:36.990769Z"
    }
   },
   "outputs": [
    {
     "data": {
      "text/plain": [
       "5"
      ]
     },
     "execution_count": 33,
     "metadata": {},
     "output_type": "execute_result"
    }
   ],
   "source": [
    "title = song.select('span > a')\n",
    "len(title)"
   ]
  },
  {
   "cell_type": "markdown",
   "metadata": {},
   "source": [
    "아직도 5개가 나오므로 조건을 더 추가하자."
   ]
  },
  {
   "cell_type": "code",
   "execution_count": 38,
   "metadata": {
    "ExecuteTime": {
     "end_time": "2021-01-07T06:16:12.479067Z",
     "start_time": "2021-01-07T06:16:12.472289Z"
    }
   },
   "outputs": [
    {
     "data": {
      "text/plain": [
       "1"
      ]
     },
     "execution_count": 38,
     "metadata": {},
     "output_type": "execute_result"
    }
   ],
   "source": [
    "title = song.select('div.ellipsis.rank01 > span > a')\n",
    "len(title)"
   ]
  },
  {
   "cell_type": "code",
   "execution_count": 39,
   "metadata": {
    "ExecuteTime": {
     "end_time": "2021-01-07T06:16:14.414296Z",
     "start_time": "2021-01-07T06:16:14.408972Z"
    }
   },
   "outputs": [
    {
     "data": {
      "text/plain": [
       "[<a href=\"javascript:melon.play.playSong('19030101',33077590);\" title=\"VVS (Feat. JUSTHIS) (Prod. GroovyRoom) 재생\">VVS (Feat. JUSTHIS) (Prod. GroovyRoom)</a>]"
      ]
     },
     "execution_count": 39,
     "metadata": {},
     "output_type": "execute_result"
    }
   ],
   "source": [
    "title"
   ]
  },
  {
   "cell_type": "markdown",
   "metadata": {},
   "source": [
    "이제 여기서 title 부분만 추출하자."
   ]
  },
  {
   "cell_type": "code",
   "execution_count": 44,
   "metadata": {
    "ExecuteTime": {
     "end_time": "2021-01-07T06:17:41.081097Z",
     "start_time": "2021-01-07T06:17:41.074228Z"
    }
   },
   "outputs": [
    {
     "data": {
      "text/plain": [
       "'VVS (Feat. JUSTHIS) (Prod. GroovyRoom)'"
      ]
     },
     "execution_count": 44,
     "metadata": {},
     "output_type": "execute_result"
    }
   ],
   "source": [
    "title = song.select('div.ellipsis.rank01 > span > a')[0].text\n",
    "title"
   ]
  },
  {
   "cell_type": "markdown",
   "metadata": {},
   "source": [
    "이번엔 가수를 찾아보자. 가수는 div와 a 태그에 포함되어 있다."
   ]
  },
  {
   "cell_type": "code",
   "execution_count": 45,
   "metadata": {
    "ExecuteTime": {
     "end_time": "2021-01-07T06:19:18.904018Z",
     "start_time": "2021-01-07T06:19:18.897149Z"
    }
   },
   "outputs": [
    {
     "data": {
      "text/plain": [
       "4"
      ]
     },
     "execution_count": 45,
     "metadata": {},
     "output_type": "execute_result"
    }
   ],
   "source": [
    "singer = song.select('div.ellipsis.rank02 > a')\n",
    "len(singer)"
   ]
  },
  {
   "cell_type": "code",
   "execution_count": 52,
   "metadata": {
    "ExecuteTime": {
     "end_time": "2021-01-07T06:20:58.148044Z",
     "start_time": "2021-01-07T06:20:58.141226Z"
    }
   },
   "outputs": [
    {
     "data": {
      "text/plain": [
       "'미란이 (Mirani)'"
      ]
     },
     "execution_count": 52,
     "metadata": {},
     "output_type": "execute_result"
    }
   ],
   "source": [
    "singer = song.select('div.ellipsis.rank02 > a')[0].text\n",
    "singer"
   ]
  },
  {
   "cell_type": "markdown",
   "metadata": {},
   "source": [
    "책이랑 다르게 쇼미의 힘인지 가수가 여러명인 노래가 1위이다.. 책의 코드들을 수정해야할 것으로 보인다.  "
   ]
  },
  {
   "cell_type": "code",
   "execution_count": 61,
   "metadata": {
    "ExecuteTime": {
     "end_time": "2021-01-07T06:36:25.159574Z",
     "start_time": "2021-01-07T06:36:25.147081Z"
    }
   },
   "outputs": [
    {
     "data": {
      "text/plain": [
       "'미란이 (Mirani), 먼치맨, Khundi Panda, 머쉬베놈 (MUSHVENOM), '"
      ]
     },
     "execution_count": 61,
     "metadata": {},
     "output_type": "execute_result"
    }
   ],
   "source": [
    "# 가수가 여러명인 경우 가수 이름을 저장하는 방법\n",
    "len_singer = len(song.select('div.ellipsis.rank02 > a'))\n",
    "singer = \"\"\n",
    "for i in range(len_singer):\n",
    "    singer += song.select('div.ellipsis.rank02 > span > a')[i].text + \", \"\n",
    "singer"
   ]
  },
  {
   "cell_type": "markdown",
   "metadata": {},
   "source": [
    "책의 1위부터 100위까지 가수와 노래 제목을 구하는 for문\n",
    "```\n",
    "for song in songs:\n",
    "    title = song.select('div.ellipsis.rank01 > span > a')[0].text\n",
    "    singer = song.select('div.ellipsis.rank02 > span > a')[0].text\n",
    "    print(title, singer, sep= '|')\n",
    "```"
   ]
  },
  {
   "cell_type": "code",
   "execution_count": 66,
   "metadata": {
    "ExecuteTime": {
     "end_time": "2021-01-07T06:38:35.699104Z",
     "start_time": "2021-01-07T06:38:35.500243Z"
    }
   },
   "outputs": [
    {
     "name": "stdout",
     "output_type": "stream",
     "text": [
      "VVS (Feat. JUSTHIS) (Prod. GroovyRoom) | 미란이 (Mirani), 먼치맨, Khundi Panda, 머쉬베놈 (MUSHVENOM), \n",
      "밤하늘의 별을(2020) | 경서, \n",
      "Dynamite | 방탄소년단, \n",
      "잠이 오질 않네요 | 장범준, \n",
      "내일이 오면 (Feat. 기리보이, BIG Naughty (서동현)) | 릴보이 (lIlBOI), \n",
      "힘든 건 사랑이 아니다 | 임창정, \n",
      "취기를 빌려 (취향저격 그녀 X 산들) | 산들, \n",
      "Lovesick Girls | BLACKPINK, \n",
      "Life Goes On | 방탄소년단, \n",
      "오래된 노래 | 스탠딩 에그, \n",
      "CREDIT (Feat. 염따, 기리보이, Zion.T) | 릴보이 (lIlBOI), \n",
      "Savage Love (Laxed - Siren Beat) (BTS Remix) | Jawsh 685, Jason Derulo, 방탄소년단, \n",
      "내 마음이 움찔했던 순간 (취향저격 그녀 X 규현) | 규현 (KYUHYUN), \n",
      "나랑 같이 걸을래 (바른연애 길잡이 X 적재) | 적재, \n",
      "어떻게 이별까지 사랑하겠어, 널 사랑하는 거지 | AKMU (악동뮤지션), \n",
      "Achoo (Feat. pH-1, HAON) (Prod. GroovyRoom) | 미란이 (Mirani), \n",
      "에잇(Prod.&Feat. SUGA of BTS) | 아이유, \n",
      "When We Disco (Duet with 선미) | 박진영, \n",
      "ON AIR (Feat. 로꼬, 박재범 & GRAY) | 릴보이 (lIlBOI), \n",
      "Freak (Prod. Slom) | 릴보이 (lIlBOI), 원슈타인, Chillin Homie, 스카이민혁 (Skyminhyuk), \n",
      "혼술하고 싶은 밤 | 벤, \n",
      "흔들리는 꽃들 속에서 네 샴푸향이 느껴진거야 | 장범준, \n",
      "늦은 밤 너의 집 앞 골목길에서 | 노을, \n",
      "어떻게 지내 (Prod. By VAN.C) | 오반 (OVAN), \n",
      "How You Like That | BLACKPINK, \n",
      "모든 날, 모든 순간 (Every day, Every Moment) | 폴킴, \n",
      "딩가딩가 (Dingga) | 마마무 (Mamamoo), \n",
      "뿌리 (Feat. JUSTHIS) (Prod. GroovyRoom) | Khundi Panda, \n",
      "아로하 | 조정석, \n",
      "METEOR | 창모 (CHANGMO), \n",
      "Blueming | 아이유, \n",
      "Dolphin | 오마이걸 (OH MY GIRL), \n",
      "서면역에서 | 순순희, \n",
      "DON'T TOUCH ME | 환불원정대, \n",
      "사실 나는 (Feat.전건호) | 경서예지, \n",
      "악역 (Feat. 이하이 & 사이먼 도미닉) (Prod. 코드 쿤스트) | 스윙스, \n",
      "마음을 드려요 | 아이유, \n",
      "작은 것들을 위한 시 (Boy With Luv) (Feat. Halsey) | 방탄소년단, \n",
      "I CAN’T STOP ME | TWICE (트와이스), \n",
      "거짓말이라도 해서 널 보고싶어 | 백지영, \n",
      "오늘도 빛나는 너에게 (To You My Light) (Feat.이라온) | 마크툽 (MAKTUB), \n",
      "마리아 (Maria) | 화사 (Hwa Sa), \n",
      "뻔한남자 | 이승기, \n",
      "Memories | Maroon 5, \n",
      "시작 | 가호 (Gaho), \n",
      "그날에 나는 맘이 편했을까 | 이예준, \n",
      "Snowman | Sia, \n",
      "사랑은 지날수록 더욱 선명하게 남아 | 전상근, \n",
      "우리 왜 헤어져야 해 | 신예영, \n",
      "홀로 | 이하이, \n",
      "봄날 | 방탄소년단, \n",
      "고독하구만 (Feat. 수퍼비) (Prod. GroovyRoom) | 머쉬베놈 (MUSHVENOM), \n",
      "눈누난나 (NUNU NANA) | 제시 (Jessi), \n",
      "All I Want For Christmas Is You | Mariah Carey, \n",
      "가을밤에 든 생각 | 잔나비, \n",
      "살짝 설렜어 (Nonstop) | 오마이걸 (OH MY GIRL), \n",
      "Santa Tell Me | Ariana Grande, \n",
      "Dance Monkey | Tones And I, \n",
      "한잔이면 지워질까 | 황인욱, \n",
      "Downtown Baby | 블루 (BLOO), \n",
      "2002 | Anne-Marie, \n",
      "What Do I Call You | 태연 (TAEYEON), \n",
      "사랑 못해, 남들 쉽게 다 하는 거 | 먼데이 키즈 (Monday Kiz), \n",
      "안녕 | 폴킴, \n",
      "너를 만나 | 폴킴, \n",
      "소확행 | 임창정, \n",
      "미리 메리 크리스마스 (Feat. 천둥 Of MBLAQ) | 아이유, \n",
      "Panorama | IZ*ONE (아이즈원), \n",
      "나로 바꾸자 (duet with JYP) | 비, \n",
      "여백의 미 (Feat. Jessi, JUSTHIS) (Prod. GroovyRoom) | 머쉬베놈 (MUSHVENOM), \n",
      "잘할게 | 이승기, \n",
      "처음처럼 | 엠씨더맥스 (M.C the MAX), \n",
      "행복해 | 송하예, \n",
      "사랑하게 될 줄 알았어 | 전미도, \n",
      "Love poem | 아이유, \n",
      "이제 나만 믿어요 | 임영웅, \n",
      "너의 번호를 누르고 (Prod. 영화처럼) | #안녕, \n",
      "너도 아는 | 폴킴, \n",
      "Don't Start Now | Dua Lipa, \n",
      "우린 어쩌다 헤어진 걸까 | 허각, \n",
      "별을 담은 시 (Ode To The Stars) | 마크툽 (MAKTUB), 이라온, \n",
      "아무노래 | 지코 (ZICO), \n",
      "다시 여기 바닷가 | 싹쓰리 (유두래곤, 린다G, 비룡), \n",
      "12:45 (Stripped) | Etham, \n",
      "Bad Boy | 청하, Christopher, \n",
      "적외선 카메라 | 원슈타인, \n",
      "놓아줘 (with 태연) | Crush, \n",
      "Paris In The Rain | Lauv, \n",
      "Maniac | Conan Gray, \n",
      "가다 (Feat. 사이먼 도미닉, The Quiett) (Prod. SLO) | 머쉬베놈 (MUSHVENOM), \n",
      "원해 (Feat. 팔로알토) (Prod. 코드 쿤스트) | 스윙스, 맥대디 (Mckdaddy), Khakii (카키), 래원 (Layone), \n",
      "ON | 방탄소년단, \n",
      "Black Mamba | aespa, \n",
      "For You (Feat. Crush) | 이하이, \n",
      "12월의 어느 겨울… | 윤도 (YoonDo), \n",
      "Blue & Grey | 방탄소년단, \n",
      "요즘 | 양다일, \n",
      "내 방을 여행하는 법 | 방탄소년단, \n",
      "크리스마스니까 | 성시경, 박효신, 이석훈, 서인국, VIXX (빅스), \n",
      "모든 밤 너에게 (연애혁명 X 민현 (뉴이스트)) | 민현 (뉴이스트), \n"
     ]
    }
   ],
   "source": [
    "for song in songs:\n",
    "    title = song.select('div.ellipsis.rank01 > span > a')[0].text\n",
    "    singer = \"\"\n",
    "    len_singer = len(song.select('div.ellipsis.rank02 > a'))\n",
    "    for i in range(len_singer):\n",
    "        singer += song.select('div.ellipsis.rank02 > span > a')[i].text + \", \"\n",
    "    print(title, singer, sep = ' | ')"
   ]
  },
  {
   "cell_type": "code",
   "execution_count": null,
   "metadata": {},
   "outputs": [],
   "source": []
  }
 ],
 "metadata": {
  "kernelspec": {
   "display_name": "Python 3",
   "language": "python",
   "name": "python3"
  },
  "language_info": {
   "codemirror_mode": {
    "name": "ipython",
    "version": 3
   },
   "file_extension": ".py",
   "mimetype": "text/x-python",
   "name": "python",
   "nbconvert_exporter": "python",
   "pygments_lexer": "ipython3",
   "version": "3.8.3"
  },
  "toc": {
   "base_numbering": 1,
   "nav_menu": {},
   "number_sections": true,
   "sideBar": true,
   "skip_h1_title": false,
   "title_cell": "Table of Contents",
   "title_sidebar": "Contents",
   "toc_cell": false,
   "toc_position": {},
   "toc_section_display": true,
   "toc_window_display": false
  },
  "varInspector": {
   "cols": {
    "lenName": 16,
    "lenType": 16,
    "lenVar": 40
   },
   "kernels_config": {
    "python": {
     "delete_cmd_postfix": "",
     "delete_cmd_prefix": "del ",
     "library": "var_list.py",
     "varRefreshCmd": "print(var_dic_list())"
    },
    "r": {
     "delete_cmd_postfix": ") ",
     "delete_cmd_prefix": "rm(",
     "library": "var_list.r",
     "varRefreshCmd": "cat(var_dic_list()) "
    }
   },
   "types_to_exclude": [
    "module",
    "function",
    "builtin_function_or_method",
    "instance",
    "_Feature"
   ],
   "window_display": false
  }
 },
 "nbformat": 4,
 "nbformat_minor": 4
}
